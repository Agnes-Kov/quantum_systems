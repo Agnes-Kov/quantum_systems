{
 "cells": [
  {
   "cell_type": "code",
   "execution_count": 1,
   "metadata": {},
   "outputs": [
    {
     "data": {
      "application/vnd.jupyter.widget-view+json": {
       "model_id": "140b666c7c38466095b436eff60c6220",
       "version_major": 2,
       "version_minor": 0
      },
      "text/plain": [
       "interactive(children=(FloatSlider(value=2.0, description='omega', max=10.0, step=0.5), Output()), _dom_classes…"
      ]
     },
     "metadata": {},
     "output_type": "display_data"
    },
    {
     "data": {
      "text/plain": [
       "<function __main__.plot(omega)>"
      ]
     },
     "execution_count": 1,
     "metadata": {},
     "output_type": "execute_result"
    }
   ],
   "source": [
    "#Hamiltonian 1 as a function of lambda\n",
    "from ipywidgets import interact\n",
    "import ipywidgets as widgets\n",
    "\n",
    "import matplotlib.pyplot as plt\n",
    "import numpy as np\n",
    "\n",
    "def plot(omega):\n",
    "    x_lambda = np.linspace(-10, 10)\n",
    "    y1 = np.linspace(omega, omega)\n",
    "    y2 = -y1\n",
    "    y3 = x_lambda\n",
    "    y4 = -y3\n",
    "    plt.plot(x_lambda, y1, label=\"$e_1=\\\\omega$\")\n",
    "    plt.plot(x_lambda, y2, label=\"$e_2=-\\\\omega$\")\n",
    "    plt.plot(x_lambda, y3, label=\"$e_3=\\\\lambda$\")\n",
    "    plt.plot(x_lambda, y4, label=\"$e_4=-\\\\lambda$\")\n",
    "    plt.title(\"Hamiltonian 1 as a function of lambda\")\n",
    "    plt.xlabel('$\\\\lambda$')\n",
    "    plt.ylabel('E')\n",
    "    plt.legend() \n",
    "    plt.show()\n",
    "\n",
    "interact(plot, omega = widgets.FloatSlider(value=2, min=0, max=10, step=0.5))\n"
   ]
  },
  {
   "cell_type": "code",
   "execution_count": 2,
   "metadata": {},
   "outputs": [
    {
     "data": {
      "application/vnd.jupyter.widget-view+json": {
       "model_id": "a80c17ecdc6740fa973736e81d5cdede",
       "version_major": 2,
       "version_minor": 0
      },
      "text/plain": [
       "interactive(children=(FloatSlider(value=2.0, description='omega', max=10.0, step=0.5), FloatSlider(value=2.0, …"
      ]
     },
     "metadata": {},
     "output_type": "display_data"
    },
    {
     "data": {
      "text/plain": [
       "<function __main__.plot(omega, mu)>"
      ]
     },
     "execution_count": 2,
     "metadata": {},
     "output_type": "execute_result"
    }
   ],
   "source": [
    "#Hamiltonian 2 as a function of lambda\n",
    "from ipywidgets import interact\n",
    "import ipywidgets as widgets\n",
    "\n",
    "import matplotlib.pyplot as plt\n",
    "import numpy as np\n",
    "\n",
    "def plot(omega, mu):\n",
    "    x_lambda = np.linspace(-10, 10)\n",
    "    y1 = np.linspace(omega + mu, omega + mu)\n",
    "    y2 = np.linspace(-omega + mu, -omega + mu)\n",
    "    y3 = x_lambda - mu\n",
    "    y4 = -x_lambda - mu\n",
    "    plt.plot(x_lambda, y1, label=\"$e_1=\\\\omega+\\\\mu$\")\n",
    "    plt.plot(x_lambda, y2, label=\"$e_2=-\\\\omega+\\\\mu$\")\n",
    "    plt.plot(x_lambda, y3, label=\"$e_3=\\\\lambda-\\\\mu$\")\n",
    "    plt.plot(x_lambda, y4, label=\"$e_4=-\\\\lambda-\\\\mu$\")\n",
    "    plt.title(\"Hamiltonian 2 as a function of lambda\")\n",
    "    plt.xlabel('$\\\\lambda$')\n",
    "    plt.ylabel('E')\n",
    "    plt.legend() \n",
    "    plt.show()\n",
    "\n",
    "interact(plot, omega = widgets.FloatSlider(value=2, min=0, max=10, step=0.5), mu = widgets.FloatSlider(value=2, min=0, max=10, step=0.5))"
   ]
  },
  {
   "cell_type": "code",
   "execution_count": 3,
   "metadata": {},
   "outputs": [
    {
     "data": {
      "application/vnd.jupyter.widget-view+json": {
       "model_id": "fea753a6917c4ca3a91da85182439fa7",
       "version_major": 2,
       "version_minor": 0
      },
      "text/plain": [
       "interactive(children=(FloatSlider(value=2.0, description='omega1', max=10.0, step=0.5), FloatSlider(value=2.0,…"
      ]
     },
     "metadata": {},
     "output_type": "display_data"
    },
    {
     "data": {
      "text/plain": [
       "<function __main__.plot(omega1, omega2)>"
      ]
     },
     "execution_count": 3,
     "metadata": {},
     "output_type": "execute_result"
    }
   ],
   "source": [
    "#Hamiltonian 3 as a function of lambda\n",
    "from ipywidgets import interact\n",
    "import ipywidgets as widgets\n",
    "\n",
    "import matplotlib.pyplot as plt\n",
    "import numpy as np\n",
    "import math\n",
    "\n",
    "def f3(omega1, omega2, x):\n",
    "    return 0.5 * math.sqrt((omega1 - omega2)**2 + 4*(x**2))\n",
    "\n",
    "def plot(omega1, omega2):\n",
    "    x_lambda = np.linspace(-10, 10)\n",
    "    omega1_array = np.linspace(omega1, omega1)\n",
    "    omega2_array = np.linspace(omega2, omega2)\n",
    "    y1 = 0.5*(omega1_array+omega2_array)\n",
    "    y2 = -y1\n",
    "    y3 = np.array(list(map(f3, omega1_array, omega2_array, x_lambda)))\n",
    "    y4 = -y3\n",
    "    plt.plot(x_lambda, y1, label=\"$e_1=0.5(\\\\omega_1+\\\\omega_2)$\")\n",
    "    plt.plot(x_lambda, y2, label=\"$e_2=-0.5(\\\\omega_1+\\\\omega_2)$\")\n",
    "    plt.plot(x_lambda, y3, label=\"$e_3=0.5\\\\sqrt{(\\\\omega_1-\\\\omega_2)^2 + 4\\\\lambda^2}$\")\n",
    "    plt.plot(x_lambda, y4, label=\"$e_4=-0.5\\\\sqrt{(\\\\omega_1-\\\\omega_2)^2 + 4\\\\lambda^2}$\")\n",
    "    plt.title(\"Hamiltonian 3 as a function of lambda\")\n",
    "    plt.xlabel('$\\\\lambda$')\n",
    "    plt.ylabel('E')\n",
    "    plt.legend() \n",
    "    plt.show()\n",
    "\n",
    "interact(plot, omega1 = widgets.FloatSlider(value=2, min=0, max=10, step=0.5), omega2 = widgets.FloatSlider(value=2, min=0, max=10, step=0.5))"
   ]
  },
  {
   "cell_type": "code",
   "execution_count": null,
   "metadata": {},
   "outputs": [],
   "source": []
  }
 ],
 "metadata": {
  "kernelspec": {
   "display_name": "Python 3",
   "language": "python",
   "name": "python3"
  },
  "language_info": {
   "codemirror_mode": {
    "name": "ipython",
    "version": 3
   },
   "file_extension": ".py",
   "mimetype": "text/x-python",
   "name": "python",
   "nbconvert_exporter": "python",
   "pygments_lexer": "ipython3",
   "version": "3.7.6"
  }
 },
 "nbformat": 4,
 "nbformat_minor": 4
}
